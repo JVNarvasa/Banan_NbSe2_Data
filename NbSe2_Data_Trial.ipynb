{
 "cells": [
  {
   "cell_type": "code",
   "execution_count": 21,
   "id": "6bc2e184",
   "metadata": {},
   "outputs": [],
   "source": [
    "import matplotlib.pyplot as plt\n",
    "import numpy as np\n",
    "from scipy import integrate\n",
    "from scipy import signal\n",
    "from scipy.signal import find_peaks\n",
    "import os"
   ]
  },
  {
   "cell_type": "code",
   "execution_count": null,
   "id": "7147b7e6",
   "metadata": {},
   "outputs": [],
   "source": [
    "#A function that opens the file and separates each of the four columns, removes the bias and current offsets,\n",
    "#and removes the voltage drop from the femto and lines\n",
    "\n",
    "#Input arguments:\n",
    "#path: define the file location and the file in the form: \"\\filelocation\\filename\"\n",
    "#dc_fac: DC factor can be found in the lab notebook\n",
    "#femto: gain setting (V/A)\n",
    "#R: resistor in the lock-in (Ohms)\n",
    "\n",
    "#returns:\n",
    "#v_corr: corrected voltage bias. Offset and line voltage drop removed\n",
    "#dI_dV: corrected conductance spectrum. differentiated g_int wrt v_corr\n",
    "#g_oop: untreated out-of-plane conductance\n",
    "#g_int: integral of g. representative of the \n",
    "\n",
    "def remove_Rs(path, dc_fac, femto, R):\n",
    "    \n",
    "    with open(path) as f:\n",
    "        lines = f.readlines()\n",
    "        x0 = [float(line.split()[0]) for line in lines]\n",
    "        x1 = [float(line.split()[1]) for line in lines]\n",
    "        x2 = [float(line.split()[2]) for line in lines]\n",
    "        y1 = [float(line.split()[3]) for line in lines]\n",
    "        \n",
    "    v = [x*dc_fac for x in x0]           #raw data bias\n",
    "    g = [y1/femto/R for y1 in x1]        #raw data conductance (S)\n",
    "    g_oop = [y1/femto/R for y1 in x2]    #raw data out-of-plane conductance (S)\n",
    "    i_raw = [z/femto for z in y1]            #raw data current (A)\n",
    "    \n",
    "    #Using the scipy.signal.peakfind, we next identify the indices of the peaks (peakind) \n",
    "    peakind, properties = find_peaks(g, distance=750, prominence=(2e-05, 5.33296e-03))  # when the function does not work, distance may often help\n",
    "        \n",
    "    #Visualization 1\n",
    "    #plt.plot([x*1e3 for x in v],[y*1e3 for y in g], color='black', label='g(v_bias) raw data')\n",
    "    \n",
    "    #for i in range(0,len(peakind)):\n",
    "    #    plt.plot(v[peakind[i]]*1e3, g[peakind[i]]*1e3, 'x')\n",
    "        \n",
    "    #plt.xlabel(\"Voltage bias (mV)\")\n",
    "    #plt.ylabel(\"g (mS)\")\n",
    "        \n",
    "    print(peakind)\n",
    "    #print(properties)\n",
    "    \n",
    "    if len(peakind) == 2:\n",
    "                \n",
    "        #The center of the peaks corresponds to the bias offset\n",
    "        v_offset = (v[peakind[1]]+v[peakind[0]])*0.5\n",
    "        #print (v_offset)\n",
    "    \n",
    "        #Removing the offset from the data\n",
    "        v_bare = [x-v_offset for x in v]\n",
    "        \n",
    "        #Visualization 2\n",
    "        #plt.plot([x*1e3 for x in v],[y*1e3 for y in g], color='black', label='raw data')\n",
    "        #plt.plot([x*1e3 for x in v_bare],[y*1e3 for y in g], color='red', label='bias offset removed')\n",
    "        #plt.legend()\n",
    "        #plt.xlim(0.30,0.6)\n",
    "        #plt.ylim(1.2,1.5)\n",
    "        #plt.xlabel(\"Voltage bias (mV)\")\n",
    "        #plt.ylabel(\"g (mS)\")\n",
    "        \n",
    "        #Next, remove the current offset using the IV curve. To this, we first use the v_bare to be\n",
    "        #the x-axis of the IV curve, and from there, we identify the  value of I(0) and force it to be 0.\n",
    "        \n",
    "        z=min(np.absolute(v_bare))       #take the absolute value of the a_new and find the minimum, which corresponds to the number closest to zero if it is not zero. \n",
    "        \n",
    "        p = z in v_bare\n",
    "        \n",
    "        if p==True:                          #use an if-statement to find the index of that minimum element of v_bare as we took its absolute value to identify the minimum but it can be positive or negative. \n",
    "            v_bare_min= v_bare.index(z)      \n",
    "        else: \n",
    "            v_bare_min= v_bare.index(-z)\n",
    "            \n",
    "        I_offset= i_raw[v_bare_min]          # I-offset is defined by the current value at the zero bias.\n",
    "        i_bare = [x-I_offset for x in i_raw]  # d_new is the checked current\n",
    "        \n",
    "        #Visualization 3\n",
    "        #print(z)\n",
    "        #print(v_bare)\n",
    "        #print(v_bare_min)\n",
    "        #print(I_offset)\n",
    "        #plt.plot([x*1e3 for x in v], [y*1e6 for y in i], color='black')\n",
    "        #plt.plot([x*1e3 for x in v_bare], [y*1e6 for y in i_bare], color='red')\n",
    "        #plt.plot([x*1e3 for x in v_bare], [y*1e6 for y in i_bare], color='blue')\n",
    "        #plt.xlim(-0.1,0.1)\n",
    "        #plt.ylim(-0.005,0.005)\n",
    "        #plt.xlabel(\"Voltage bias (mV)\")\n",
    "        #plt.ylabel(\"I (uA)\")\n",
    "        \n",
    "        #For sanity check, we want to integrate g wrt v_bare, and compare it with the (v_bare, i_bare) plot.\n",
    "        #Ideally, they should be the same but since g is measured with the lock-in, it turns out to be smoother\n",
    "        #than I, so we must use the integral of g instead of i in succeeding calculation.\n",
    "        \n",
    "        g_integration = integrate.cumtrapz(g,v_bare)\n",
    "        g_integ=np.append(g_integration, g_integration[-1])\n",
    "        I_offset2 = g_integ[v_bare_min]\n",
    "        g_int = [x-I_offset2 for x in g_integ]\n",
    "        \n",
    "        #visualization4\n",
    "        #plt.plot([x*1e3 for x in v_bare], [y*1e6 for y in i_bare], color='black', label='current, I')\n",
    "        #plt.plot([x*1e3 for x in v_bare], [y*1e6 for y in g_int], color='red', label='integrated conductance, g_int')\n",
    "        #plt.xlabel(\"Voltage bias (mV)\")\n",
    "        #plt.ylabel(\"I (uA)\")\n",
    "        #plt.legend()\n",
    "        \n",
    "        #Now, we want to remove the voltage drop contribution from the femto and the lines using Kirchoff's rule,\n",
    "        #and knowing that the femto input impedance is 120 Ohms for 10^6 gain and another 120 Ohms from measuring\n",
    "        #the lines, which gives a total of 240 Ohms for unwanted voltage drop.\n",
    "        \n",
    "        if femto == 1e6:\n",
    "            R_femto=60\n",
    "        else :\n",
    "            R_femto=150\n",
    "        \n",
    "        \n",
    "        R_lines=120\n",
    "        R_ser= R_femto + R_lines\n",
    "\n",
    "        v_corr= [y - x*R_ser for y, x in zip(v_bare, g_int)]\n",
    "\n",
    "        #print(len(g_int))\n",
    "        #print(len(v_corr))\n",
    "\n",
    "        #next, we take the derivative of g_int wrt the v_corr\n",
    "\n",
    "        dI_dV = np.gradient(g_int, v_corr)\n",
    "\n",
    "        plt.plot([x*1e3 for x in v_bare], [y*1e3 for y in g], color='black', label='raw data')\n",
    "        plt.plot([x*1e3 for x in v_corr], [y*1e3 for y in dI_dV], color='red', label='R_s removed')\n",
    "        plt.xlabel('Voltage bias (mV)')\n",
    "        plt.ylabel('Conductance (mS)')\n",
    "        #plt.xlim(0.79, 0.80)\n",
    "        #plt.ylim(1.15, 3.2)\n",
    "        plt.legend()\n",
    "        \n",
    "        \n",
    "    else:\n",
    "                \n",
    "        print('Error: Peakfind properties have to be changed. Copy lines 15 thru 28 on a new cell, and change prominence bound to \"(None, 1)\". Then open the file with these lines of codes and add print(properties[\"prominences\"], change the prominence bounds inside the function based from these values.')\n",
    "    \n",
    "    #fig, axs = plt.subplots(2, 2)\n",
    "    #axs[0, 0].plot(x, y)\n",
    "    #axs[0, 0].set_title('Axis [0, 0]')\n",
    "    #axs[0, 1].plot(x, y, 'tab:orange')\n",
    "    #axs[0, 1].set_title('Axis [0, 1]')\n",
    "    #axs[1, 0].plot(x, -y, 'tab:green')\n",
    "    #axs[1, 0].set_title('Axis [1, 0]')\n",
    "    #axs[1, 1].plot(x, -y, 'tab:red')\n",
    "    #axs[1, 1].set_title('Axis [1, 1]')\n",
    "    \n",
    "    return v_corr, dI_dV, g_oop, g_int"
   ]
  },
  {
   "cell_type": "code",
   "execution_count": null,
   "id": "843f0833",
   "metadata": {},
   "outputs": [],
   "source": [
    "#Another way to remove the Dirac Outliers is to change the smoothness of the function\n",
    "#around the point by checking the difference one by one\n",
    "\n",
    "#Input\n",
    "#dIdV:\n",
    "#Return\n",
    "\n",
    "def Remove_DO(dIdV):\n",
    "    dIdV_new=dIdV\n",
    "    for i in range(len(dIdV_new)-2):\n",
    "        if abs(dIdV_new[i+1]-dIdV_new[i]) > 8.5e-6:\n",
    "            dIdV_new[i]=(dIdV_new[i+3]+dIdV_new[i-3])*0.5\n",
    "            #print(i)\n",
    "            \n",
    "    for i in range(-2,0):\n",
    "        dIdV_new[i]=dIdV_new[-3]\n",
    "    return(dIdV_new)"
   ]
  },
  {
   "cell_type": "code",
   "execution_count": null,
   "id": "b5b283f8",
   "metadata": {},
   "outputs": [],
   "source": [
    "#Some of the derivatives of g_int wrt v_corr have divergence at specific points.\n",
    "#The origin is not understood but certainly not from the raw data. So it could be\n",
    "#due to the built-in function itself. To remove them, we identify the points and replace \n",
    "#with the average of the neighbors.\n",
    "\n",
    "def remove_DiracOutliers(dIdV):\n",
    "    dIdV_new=dIdV\n",
    "    #Positive peaks\n",
    "    peakindp, propertiesp = find_peaks(dIdV_new, prominence=(1.05e-3, 3.5e-3))\n",
    "    #print('peakindp=', peakindp)\n",
    "    #print('propertiesp=', propertiesp)\n",
    "    for i in range(len(peakindp)):\n",
    "        #plt.plot(v_corr_189[peakindp[i]]*1e3, dIdV_189[peakindp[i]]*1e3, 'x')\n",
    "        dIdV_new[peakindp[i]] = (dIdV_new[peakindp[i]-3]+ dIdV_new[peakindp[i]+ 3])/2\n",
    "        dIdV_new[peakindp[i]+1] = (dIdV_new[peakindp[i]]+dIdV_new[peakindp[i]+3])/2\n",
    "        dIdV_new[peakindp[i]-1] = (dIdV_new[peakindp[i]]+dIdV_new[peakindp[i]-3])/2\n",
    "            \n",
    "    #Negative peaks\n",
    "    peakindn, propertiesn = find_peaks(-dIdV_new, prominence=(2.2e-4, 1.0e-3))\n",
    "    #print('peakindn=',peakindn)\n",
    "    #print('propertiesn=', propertiesn)\n",
    "    for i in range(len(peakindn)):\n",
    "        #plt.plot(v_corr_189[peakindn[i]]*1e3, dIdV_189[peakindn[i]]*1e3, 'x')\n",
    "        dIdV_new[peakindn[i]] = (dIdV_new[peakindn[i]-3]+ dIdV_new[peakindn[i]+ 3])/2\n",
    "        dIdV_new[peakindn[i]+1] = (dIdV_new[peakindn[i]]+dIdV_new[peakindn[i]+3])/2\n",
    "        dIdV_new[peakindn[i]-1] = (dIdV_new[peakindn[i]]+dIdV_new[peakindn[i]-3])/2\n",
    "    \n",
    "    #Divergence at the end of the data\n",
    "    for i in range(-2,0):\n",
    "        dIdV_new[i] = dIdV_new[-3]\n",
    "    \n",
    "    return dIdV_new\n",
    "#    return(dIdV_new,peakindp, propertiesp, peakindn,propertiesn)"
   ]
  },
  {
   "cell_type": "code",
   "execution_count": 2,
   "id": "0d91ac09",
   "metadata": {},
   "outputs": [],
   "source": [
    "#A function that opens the file and separates each of the four columns\n",
    "\n",
    "def openmyfile(path, dc_fac, femto, R):\n",
    "    with open(path) as f:\n",
    "        lines = f.readlines()\n",
    "        x0 = [float(line.split()[0]) for line in lines]\n",
    "        x1 = [float(line.split()[1]) for line in lines]\n",
    "        x2 = [float(line.split()[2]) for line in lines]\n",
    "        y1 = [float(line.split()[3]) for line in lines]\n",
    "        \n",
    "    v = [x*dc_fac for x in x0]\n",
    "    g = [y1/femto/R for y1 in x1]\n",
    "    g_oop = [y1/femto/R for y1 in x2]\n",
    "    i = [z/femto for z in y1]\n",
    "        \n",
    "    return v, g, g_oop, i"
   ]
  },
  {
   "cell_type": "code",
   "execution_count": null,
   "id": "f3722acc",
   "metadata": {},
   "outputs": [],
   "source": []
  },
  {
   "cell_type": "code",
   "execution_count": 3,
   "id": "e9f8db24",
   "metadata": {},
   "outputs": [],
   "source": [
    "# Define the path and the file\n",
    "\n",
    "path = '/home/jnarvasa/Desktop/[1] Academics/PhD/Data/Banan/Sample 20231030/20241231/189_GIV_J11toO3_17Hz_5uV_500mK_H150mVwComp.txt'\n",
    "\n",
    "#Important factors have to be put into the function\n",
    "\n",
    "dc_fac =9.739E-3\n",
    "femto = 1e6\n",
    "R = 5e-6"
   ]
  },
  {
   "cell_type": "code",
   "execution_count": 4,
   "id": "77861d8b",
   "metadata": {},
   "outputs": [
    {
     "data": {
      "text/plain": [
       "[<matplotlib.lines.Line2D at 0x7f8c3b13bd00>]"
      ]
     },
     "execution_count": 4,
     "metadata": {},
     "output_type": "execute_result"
    },
    {
     "data": {
      "image/png": "[encoded data removed]",
      "text/plain": [
       "<Figure size 432x288 with 1 Axes>"
      ]
     },
     "metadata": {
      "needs_background": "light"
     },
     "output_type": "display_data"
    }
   ],
   "source": [
    "#taking the returns of the function\n",
    "a,b,c,d = openmyfile(path, dc_fac, femto, R)\n",
    "\n",
    "#plotting the spectrum\n",
    "plt.plot(a,b)"
   ]
  },
  {
   "cell_type": "code",
   "execution_count": 7,
   "id": "0dc97af8",
   "metadata": {},
   "outputs": [
    {
     "name": "stdout",
     "output_type": "stream",
     "text": [
      "[1082 1927]\n",
      "[0.0005333  0.00051556]\n",
      "-0.00040709019999999994\n"
     ]
    },
    {
     "data": {
      "image/png": "[encoded data removed]",
      "text/plain": [
       "<Figure size 432x288 with 1 Axes>"
      ]
     },
     "metadata": {
      "needs_background": "light"
     },
     "output_type": "display_data"
    }
   ],
   "source": [
    "#Finding the center of the peak\n",
    "\n",
    "#Method 1: Using a built-in function scipy.signal.find_peaks\n",
    "\n",
    "peakind, properties = find_peaks(b, distance=750,  prominence=(2e-05, 5.33296e-03))\n",
    "print(peakind)\n",
    "print(properties['prominences'])\n",
    "\n",
    "plt.plot(a,b)\n",
    "\n",
    "for i in range(0,len(peakind)):\n",
    "    plt.plot(a[peakind[i]], b[peakind[i]], 'x')\n",
    "\n",
    "#Method 2: Creating own function. Risk (as per Freek, might not work for noisy data) \n",
    "\n",
    "#mid=int(len(b)/2)\n",
    "\n",
    "#Left Peak\n",
    "#bleft=b[:mid]\n",
    "#idxleft = [i for i, val in enumerate(bleft) if val == max(bleft)]\n",
    "\n",
    "#Right Peak\n",
    "#bright=b[mid:]\n",
    "#idxright = [i for i, val in enumerate(bright) if val == max(bright)]\n",
    "\n",
    "#print()\n",
    "\n",
    "#Center\n",
    "C=(a[peakind[0]]+a[peakind[0]])*0.5\n",
    "print(C)\n",
    "\n",
    "#Spectrum Centering\n",
    "a_new = [x-C for x in a] #it doesnt matter whether C is posotive or negative the formula will do the same thing\n",
    "\n",
    "#plt.plot(a,b, color='black')  \n",
    "#plt.plot(a_new, b, color='red')\n",
    "#plt.xlim(0.0002,0.0008)\n",
    "#plt.ylim(0.0007,0.0016)"
   ]
  },
  {
   "cell_type": "code",
   "execution_count": 8,
   "id": "72d2cd19",
   "metadata": {},
   "outputs": [
    {
     "data": {
      "text/plain": [
       "(-3.5e-08, 3.5e-08)"
      ]
     },
     "execution_count": 8,
     "metadata": {},
     "output_type": "execute_result"
    },
    {
     "data": {
      "image/png": "[encoded data removed]",
      "text/plain": [
       "<Figure size 432x288 with 1 Axes>"
      ]
     },
     "metadata": {
      "needs_background": "light"
     },
     "output_type": "display_data"
    }
   ],
   "source": [
    "#Plotting the IV curve (v (a) vs v_centered (a_new))\n",
    "plt.plot(a, d, color='black')\n",
    "plt.plot(a_new, d, color='red')\n",
    "plt.xlim(-0.00025,0.00025)\n",
    "plt.ylim(-0.000000035,0.000000035)"
   ]
  },
  {
   "cell_type": "code",
   "execution_count": null,
   "id": "e1ff0e76",
   "metadata": {},
   "outputs": [],
   "source": []
  },
  {
   "cell_type": "code",
   "execution_count": null,
   "id": "dd1c62d2",
   "metadata": {},
   "outputs": [],
   "source": [
    "print(a[peakind[1]]-a[peakind[0]])"
   ]
  },
  {
   "cell_type": "code",
   "execution_count": 10,
   "id": "326a1ce4",
   "metadata": {},
   "outputs": [
    {
     "name": "stdout",
     "output_type": "stream",
     "text": [
      "0.0\n",
      "1082\n",
      "-2.384199e-07\n"
     ]
    },
    {
     "data": {
      "image/png": "[encoded data removed]",
      "text/plain": [
       "<Figure size 432x288 with 1 Axes>"
      ]
     },
     "metadata": {
      "needs_background": "light"
     },
     "output_type": "display_data"
    }
   ],
   "source": [
    "#Finding the index of V_bias=0\n",
    "\n",
    "#idx_x0 = np.where(np.array(a_new) == float(0))\n",
    "#print(a_new)\n",
    "\n",
    "#print(min(b))\n",
    "#print(idx_x0)\n",
    "\n",
    "#The minimum of the entire dI/dV spectrum corresponds to the middle of the flatline in the IV curve.\n",
    "\n",
    "#So first want the index of of the minimum of the dI/dV, and we will use the same index to identify the corresponding current.\n",
    "\n",
    "z=min(np.absolute(a_new)) #take the absolute value of the a_new and find the minimum, which corresponds to the number closest to zero if it is not zero. \n",
    "min_a_idx= a_new.index(z) #Find the index of that minimum element of a_new\n",
    "y_offset= d[min_a_idx] # y-offset is defined by the current value at the zero bias.\n",
    "d_new = [x-y_offset for x in d] # d_new is the checked current\n",
    "\n",
    "#print(d_new)\n",
    "\n",
    "#with a_new and d_new being foud we can now treat the perfectly centered IV curve and work from there\n",
    "\n",
    "\n",
    "plt.plot(a, d, color='black')\n",
    "plt.plot(a_new, d, color='red')\n",
    "plt.plot(a_new, d_new, color='blue')\n",
    "print(z)\n",
    "print(min_a_idx)\n",
    "print(y_offset)\n",
    "#plt.xlim(-0.00009,0.00009)\n",
    "#plt.ylim(-0.0000000035,0.0000000035)\n",
    "\n",
    "\n",
    "#print(np.all(a_new))\n",
    "\n",
    "#print(min(np.absolute(a_new)))\n",
    "#z=min(np.absolute(a_new))\n",
    "#Min_a_idx= a_new.index(z)\n",
    "#print(a_new[1505])\n",
    "#print(Min_a_idx)"
   ]
  },
  {
   "cell_type": "code",
   "execution_count": 11,
   "id": "7a0ede2d",
   "metadata": {},
   "outputs": [
    {
     "data": {
      "text/plain": [
       "[<matplotlib.lines.Line2D at 0x7f8c3a1acd90>]"
      ]
     },
     "execution_count": 11,
     "metadata": {},
     "output_type": "execute_result"
    },
    {
     "data": {
      "image/png": "[encoded data removed]",
      "text/plain": [
       "<Figure size 432x288 with 1 Axes>"
      ]
     },
     "metadata": {
      "needs_background": "light"
     },
     "output_type": "display_data"
    }
   ],
   "source": [
    "#Sanity Check\n",
    "#Next we want to integrate the g (g_int) and compare it with i\n",
    "\n",
    "g_integration = integrate.cumtrapz(b,a_new)\n",
    "\n",
    "g_integ=np.append(g_integration, g_integration[-1])\n",
    "\n",
    "I_offset = g_integ[min_a_idx]\n",
    "g_int = [x-I_offset for x in g_integ]\n",
    "\n",
    "\n",
    "plt.plot(a_new, d_new, color='black')\n",
    "plt.plot(a_new, g_int, color='red')\n",
    "\n"
   ]
  },
  {
   "cell_type": "code",
   "execution_count": 12,
   "id": "308f113c",
   "metadata": {},
   "outputs": [
    {
     "data": {
      "text/plain": [
       "[<matplotlib.lines.Line2D at 0x7f8c3a035c60>]"
      ]
     },
     "execution_count": 12,
     "metadata": {},
     "output_type": "execute_result"
    },
    {
     "data": {
      "image/png": "[encoded data removed]",
      "text/plain": [
       "<Figure size 432x288 with 1 Axes>"
      ]
     },
     "metadata": {
      "needs_background": "light"
     },
     "output_type": "display_data"
    }
   ],
   "source": [
    "# Next we want to compute the corrected g, by calculating dI/dV. but instead of using I, we use the\n",
    "#integrated g (g_int), differentiated with the corrected V.\n",
    "\n",
    "#First we want to eliminate the femto, noting that the femto resistance is 120Ohms for 10^6 amplification, and assuming that the R_lines=120Ohms in total so the series resistance is equal to 140Ohms\n",
    "\n",
    "R_femto=120\n",
    "R_lines=120\n",
    "R_ser= R_femto + R_lines\n",
    "\n",
    "v_corr= [y - x*R_ser for y, x in zip(a_new,g_int)]\n",
    "\n",
    "#print(len(g_int))\n",
    "#print(len(v_corr))\n",
    "\n",
    "#next, we take the derivative of g_int wrt the v_corr\n",
    "\n",
    "dI_dV = np.gradient(g_int, v_corr)\n",
    "\n",
    "plt.plot(a_new, b, color='black')\n",
    "plt.plot(v_corr, dI_dV, color='red')\n",
    "\n",
    "\n",
    "#plt.xlim(-0.0008,-0.0007)\n",
    "#plt.ylim(0.0010,0.0017)"
   ]
  },
  {
   "cell_type": "code",
   "execution_count": 20,
   "id": "cef0cf85",
   "metadata": {},
   "outputs": [
    {
     "ename": "AttributeError",
     "evalue": "'list' object has no attribute 'shape'",
     "output_type": "error",
     "traceback": [
      "\u001b[0;31m---------------------------------------------------------------------------\u001b[0m",
      "\u001b[0;31mAttributeError\u001b[0m                            Traceback (most recent call last)",
      "\u001b[0;32m/tmp/ipykernel_7634/461291698.py\u001b[0m in \u001b[0;36m<module>\u001b[0;34m\u001b[0m\n\u001b[1;32m      2\u001b[0m \u001b[0mvarargs\u001b[0m\u001b[0;34m=\u001b[0m\u001b[0mg_int\u001b[0m\u001b[0;34m\u001b[0m\u001b[0;34m\u001b[0m\u001b[0m\n\u001b[1;32m      3\u001b[0m \u001b[0;34m\u001b[0m\u001b[0m\n\u001b[0;32m----> 4\u001b[0;31m \u001b[0mprint\u001b[0m\u001b[0;34m(\u001b[0m\u001b[0mlen\u001b[0m\u001b[0;34m(\u001b[0m\u001b[0mv_corr\u001b[0m\u001b[0;34m.\u001b[0m\u001b[0mshape\u001b[0m\u001b[0;34m)\u001b[0m\u001b[0;34m)\u001b[0m\u001b[0;34m\u001b[0m\u001b[0;34m\u001b[0m\u001b[0m\n\u001b[0m\u001b[1;32m      5\u001b[0m \u001b[0mprint\u001b[0m\u001b[0;34m(\u001b[0m\u001b[0mlen\u001b[0m\u001b[0;34m(\u001b[0m\u001b[0mg_int\u001b[0m\u001b[0;34m)\u001b[0m\u001b[0;34m)\u001b[0m\u001b[0;34m\u001b[0m\u001b[0;34m\u001b[0m\u001b[0m\n",
      "\u001b[0;31mAttributeError\u001b[0m: 'list' object has no attribute 'shape'"
     ]
    }
   ],
   "source": [
    "f=v_corr\n",
    "varargs=g_int\n",
    "\n",
    "print(len(v_corr.shape))\n",
    "print(len(g_int))"
   ]
  },
  {
   "cell_type": "code",
   "execution_count": 25,
   "id": "5163cd33",
   "metadata": {},
   "outputs": [
    {
     "ename": "SyntaxError",
     "evalue": "invalid syntax (3749318557.py, line 27)",
     "output_type": "error",
     "traceback": [
      "\u001b[0;36m  File \u001b[0;32m\"/tmp/ipykernel_7634/3749318557.py\"\u001b[0;36m, line \u001b[0;32m27\u001b[0m\n\u001b[0;31m    raise SyntaxError, \"invalid number of arguments\"\u001b[0m\n\u001b[0m                     ^\u001b[0m\n\u001b[0;31mSyntaxError\u001b[0m\u001b[0;31m:\u001b[0m invalid syntax\n"
     ]
    }
   ],
   "source": [
    "f=v_corr\n",
    "varargs= (x for x in g_int)\n",
    "\n",
    "\n",
    "def gradientO4(f, *varargs):\n",
    "    \"\"\"Calculate the fourth-order-accurate gradient of an N-dimensional scalar function.\n",
    "    Uses central differences on the interior and first differences on boundaries\n",
    "    to give the same shape.\n",
    "    Inputs:\n",
    "      f -- An N-dimensional array giving samples of a scalar function\n",
    "      varargs -- 0, 1, or N scalars giving the sample distances in each direction\n",
    "    Outputs:\n",
    "      N arrays of the same shape as f giving the derivative of f with respect\n",
    "       to each dimension.\n",
    "    \"\"\"\n",
    "    N = len(f.shape)  # number of dimensions\n",
    "    n = len(varargs)\n",
    "    print(N)\n",
    "    print(n)\n",
    "    if n == 0:\n",
    "        dx = [1.0]*N\n",
    "    elif n == 1:\n",
    "        dx = [varargs[0]]*N\n",
    "    elif n == N:\n",
    "        dx = list(varargs)\n",
    "    else:\n",
    "        raise SyntaxError, \"invalid number of arguments\"\n",
    "\n",
    "    # use central differences on interior and first differences on endpoints\n",
    "\n",
    "    #print dx\n",
    "    outvals = []\n",
    "\n",
    "    # create slice objects --- initially all are [:, :, ..., :]\n",
    "    slice0 = [slice(None)]*N\n",
    "    slice1 = [slice(None)]*N\n",
    "    slice2 = [slice(None)]*N\n",
    "    slice3 = [slice(None)]*N\n",
    "    slice4 = [slice(None)]*N\n",
    "\n",
    "    otype = f.dtype.char\n",
    "    if otype not in ['f', 'd', 'F', 'D']:\n",
    "        otype = 'd'\n",
    "\n",
    "    for axis in range(N):       \n",
    "        # select out appropriate parts for this dimension\n",
    "        out = np.zeros(f.shape, f.dtype.char)\n",
    "\n",
    "        slice0[axis] = slice(2, -2)\n",
    "        slice1[axis] = slice(None, -4)\n",
    "        slice2[axis] = slice(1, -3)\n",
    "        slice3[axis] = slice(3, -1)\n",
    "        slice4[axis] = slice(4, None)\n",
    "        # 1D equivalent -- out[2:-2] = (f[:4] - 8*f[1:-3] + 8*f[3:-1] - f[4:])/12.0\n",
    "        out[slice0] = (f[slice1] - 8.0*f[slice2] + 8.0*f[slice3] - f[slice4])/12.0\n",
    "\n",
    "        slice0[axis] = slice(None, 2)\n",
    "        slice1[axis] = slice(1, 3)\n",
    "        slice2[axis] = slice(None, 2)\n",
    "        # 1D equivalent -- out[0:2] = (f[1:3] - f[0:2])\n",
    "        out[slice0] = (f[slice1] - f[slice2])\n",
    "\n",
    "        slice0[axis] = slice(-2, None)\n",
    "        slice1[axis] = slice(-2, None)\n",
    "        slice2[axis] = slice(-3, -1)\n",
    "        ## 1D equivalent -- out[-2:] = (f[-2:] - f[-3:-1])\n",
    "        out[slice0] = (f[slice1] - f[slice2])\n",
    "\n",
    "\n",
    "        # divide by step size\n",
    "        outvals.append(out / dx[axis])\n",
    "\n",
    "        # reset the slice object in this dimension to \":\"\n",
    "        slice0[axis] = slice(None)\n",
    "        slice1[axis] = slice(None)\n",
    "        slice2[axis] = slice(None)\n",
    "        slice3[axis] = slice(None)\n",
    "        slice4[axis] = slice(None)\n",
    "\n",
    "    if N == 1:\n",
    "        return outvals[0]\n",
    "    else:\n",
    "        return outvals"
   ]
  },
  {
   "cell_type": "code",
   "execution_count": null,
   "id": "9b85dd8a",
   "metadata": {},
   "outputs": [],
   "source": [
    "a=[1,2,3]\n",
    "\n",
    "b= 2 in a\n",
    "\n",
    "print(b)"
   ]
  },
  {
   "cell_type": "code",
   "execution_count": null,
   "id": "671dd170",
   "metadata": {},
   "outputs": [],
   "source": []
  },
  {
   "cell_type": "code",
   "execution_count": null,
   "id": "690672b1",
   "metadata": {},
   "outputs": [],
   "source": [
    "print(a.size)"
   ]
  },
  {
   "cell_type": "code",
   "execution_count": null,
   "id": "7d0259c2",
   "metadata": {},
   "outputs": [],
   "source": [
    "#print(a)\n",
    "\n",
    "peakindp, propertiesp = find_peaks(dIdV_189, prominence=(2.5e-3, 0.05))\n",
    "#print(peakindp)\n",
    "for i in range(len(peakindp)):\n",
    "        plt.plot(v_corr_189[peakindp[i]]*1e3, dIdV_189[peakindp[i]]*1e3, 'x')\n",
    "        #dIdV_189[peakindp[i]-2]=0\n",
    "        dIdV_189[peakindp[i]-1]=0\n",
    "        dIdV_189[peakindp[i]]=0\n",
    "        dIdV_189[peakindp[i]+1]=0\n",
    "        #dIdV_189[peakindp[i]+2]=0\n",
    "        for j in range(-1,4):\n",
    "            dIdV_189[peakindp[i]-1] += dIdV_189[peakindp[i]-1+j]/2\n",
    "        for k in range(-11,12):\n",
    "            dIdV_189[peakindp[i]+1] += dIdV_189[peakindp[i]+1+j]/20\n",
    "        for l in range(-11,12):\n",
    "            dIdV_189[peakindp[i]] += dIdV_189[peakindp[i]+j]/21\n",
    "            \n",
    "#ADD MORE POINTS        \n",
    "        \n",
    "peakindn, propertiesn = find_peaks(-dIdV_189, prominence=(3.5e-4, 5e-4))\n",
    "#print(peakindn)\n",
    "for i in range(len(peakindn)):\n",
    "        plt.plot(v_corr_189[peakindn[i]]*1e3, dIdV_189[peakindn[i]]*1e3, 'x')\n",
    "        #dIdV_189[peakindp[i]-2]=0\n",
    "        dIdV_189[peakindn[i]-1]=0\n",
    "        dIdV_189[peakindn[i]]=0\n",
    "        dIdV_189[peakindn[i]+1]=0\n",
    "        #dIdV_189[peakindp[i]+2]=0\n",
    "        for j in range(-5,6):\n",
    "            dIdV_189[peakindn[i]-1] += dIdV_189[peakindn[i]-1+j]/7\n",
    "        for k in range(-5,6):\n",
    "            dIdV_189[peakindn[i]+1] += dIdV_189[peakindn[i]+1+j]/8\n",
    "        for l in range(-5,6):\n",
    "            dIdV_189[peakindn[i]] += dIdV_189[peakindn[i]+j]/9\n",
    "    \n",
    "plt.plot([x*1e3 for x in v_corr_189],[y*1e3 for y in dIdV_189])\n",
    "print(dIdV_189[499])        \n",
    "print(dIdV_189[2500])"
   ]
  },
  {
   "cell_type": "code",
   "execution_count": null,
   "id": "e02f7f1a",
   "metadata": {},
   "outputs": [],
   "source": [
    "def Remove_DiracOutliers(dIdV)\n",
    "    \n",
    "    #Positive peaks\n",
    "    peakindp, propertiesp = find_peaks(dIdV, prominence=(3e-3, 0.05))\n",
    "    for i in range len(peakindp):\n",
    "        dIdV[i] = (dIdV[i-1]+dIdV[1+1])/2\n",
    "    #Negative peaks\n",
    "    peakindn, propertiesn = find_peaks(-dIdV, prominence=(3.5e-4, 5e-4))\n",
    "    for j in range len(peakindp):\n",
    "        dIdV[j] = (dIdV[j-1]+dIdV[j+1])/2\n",
    "        \n",
    "    dIdV[-1] = dIdV[-2]\n",
    "    \n",
    "    return dIdV\n",
    "    \n",
    "    \n",
    "for i in range(0,len(peakindn)):\n",
    "        plt.plot(v_corr_189[peakindn[i]]*1e3, dIdV_189[peakindn[i]]*1e3, 'x')\n",
    "    \n",
    "    \n",
    "    \n",
    "plt.plot([x*1e3 for x in v_corr_189],[y*1e3 for y in dIdV_189])\n",
    "#print(a)\n",
    "\n",
    "peakindp, propertiesp = find_peaks(dIdV_189, prominence=(3e-3, 0.05))\n",
    "for i in range(0,len(peakindp)):\n",
    "        plt.plot(v_corr_189[peakindp[i]]*1e3, dIdV_189[peakindp[i]]*1e3, 'x')\n",
    "        \n",
    "peakindn, propertiesn = find_peaks(-dIdV_189, prominence=(3.5e-4, 5e-4))\n",
    "for i in range(0,len(peakindn)):\n",
    "        plt.plot(v_corr_189[peakindn[i]]*1e3, dIdV_189[peakindn[i]]*1e3, 'x')\n",
    "        \n",
    "#print(peakindn)\n",
    "print(propertiesn)\n",
    "#print(max(propertiesn[0]))\n",
    "print(len(peakindn))"
   ]
  }
 ],
 "metadata": {
  "kernelspec": {
   "display_name": "Python 3 (ipykernel)",
   "language": "python",
   "name": "python3"
  },
  "language_info": {
   "codemirror_mode": {
    "name": "ipython",
    "version": 3
   },
   "file_extension": ".py",
   "mimetype": "text/x-python",
   "name": "python",
   "nbconvert_exporter": "python",
   "pygments_lexer": "ipython3",
   "version": "3.10.0"
  }
 },
 "nbformat": 4,
 "nbformat_minor": 5
}
